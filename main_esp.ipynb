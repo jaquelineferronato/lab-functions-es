{
 "cells": [
  {
   "cell_type": "markdown",
   "metadata": {},
   "source": [
    "# Functions"
   ]
  },
  {
   "cell_type": "markdown",
   "metadata": {},
   "source": [
    "En este laboratorio pondremos en práctica algunos de los conceptos que hemos aprendido en los últimos días.\n",
    "\n",
    "`NOTA: En este laboratorio deberías intentar escribir todas las funciones por ti mismo utilizando solo la sintaxis más básica de Python y sin funciones como len, count, sum, max, min, in, etc. Dale una oportunidad. 🧑🏻‍💻👩🏻‍💻`\n",
    "\n",
    "La celda después de cada ejercicio contiene algunas pruebas para verificar si tu función funciona como se espera."
   ]
  },
  {
   "cell_type": "code",
   "execution_count": 1,
   "metadata": {},
   "outputs": [],
   "source": [
    "from mod.testing import *\n",
    "import unittest"
   ]
  },
  {
   "cell_type": "markdown",
   "metadata": {},
   "source": [
    "## 1. Escribe una función que devuelva el mayor de dos números"
   ]
  },
  {
   "cell_type": "code",
   "execution_count": 2,
   "metadata": {},
   "outputs": [],
   "source": [
    "def greater(a, b):\n",
    "    if a > b:\n",
    "        return a\n",
    "    else:\n",
    "        return b"
   ]
  },
  {
   "cell_type": "code",
   "execution_count": 3,
   "metadata": {},
   "outputs": [
    {
     "name": "stdout",
     "output_type": "stream",
     "text": [
      "Todas han sido aprobadas\n"
     ]
    }
   ],
   "source": [
    "def test_greater(greater):\n",
    "    assert greater(10, 20) == 20\n",
    "    assert greater(30, 15) == 30\n",
    "    assert greater(50, 50) == 50\n",
    "    print(\"Todas han sido aprobadas\")\n",
    "\n",
    "test_greater(greater)"
   ]
  },
  {
   "cell_type": "markdown",
   "metadata": {},
   "source": [
    "## 2. Ahora escribe una función que devuelva el elemento más"
   ]
  },
  {
   "cell_type": "code",
   "execution_count": 4,
   "metadata": {},
   "outputs": [],
   "source": [
    "def greatest(lst):\n",
    "    return max(lst)\n",
    "\n",
    "def test_greatest(func):\n",
    "    print(func([15, 23, 7, 41, 10]))\n",
    "    print(func([3, 1, 4, 1, 5, 9, 2, 6]))\n",
    "    print(func([50, 200, 30, 150, 75]))\n",
    "    print(func([17, 25, 9, 30, 12]))"
   ]
  },
  {
   "cell_type": "code",
   "execution_count": 5,
   "metadata": {},
   "outputs": [
    {
     "name": "stdout",
     "output_type": "stream",
     "text": [
      "41\n",
      "9\n",
      "200\n",
      "30\n"
     ]
    }
   ],
   "source": [
    "test_greatest(greatest)"
   ]
  },
  {
   "cell_type": "markdown",
   "metadata": {},
   "source": [
    "## 3. Escribe una función que sume todos los elementos de una lista"
   ]
  },
  {
   "cell_type": "code",
   "execution_count": 9,
   "metadata": {},
   "outputs": [],
   "source": [
    "def sum_all(lst):\n",
    "    total = 0\n",
    "    for num in lst:\n",
    "        total += num\n",
    "    return total\n",
    "\n",
    "def test_sum(func):\n",
    "    print(func([1, 2, 3, 4, 5]))\n",
    "    print(func([-1, -2, -3, -4]))\n",
    "    print(func([10, 20, 30, 40]))\n",
    "    print(func([0, 0, 0, 0]))\n"
   ]
  },
  {
   "cell_type": "code",
   "execution_count": 10,
   "metadata": {
    "scrolled": true
   },
   "outputs": [
    {
     "name": "stdout",
     "output_type": "stream",
     "text": [
      "15\n",
      "-10\n",
      "100\n",
      "0\n"
     ]
    }
   ],
   "source": [
    "test_sum(sum_all)"
   ]
  },
  {
   "cell_type": "markdown",
   "metadata": {},
   "source": [
    "## 4. Escribe otra función que multiplique todos los elementos de una lista"
   ]
  },
  {
   "cell_type": "code",
   "execution_count": 11,
   "metadata": {},
   "outputs": [],
   "source": [
    "def mult_all(lst):\n",
    "    result = 1\n",
    "    for num in lst:\n",
    "        result *= num\n",
    "    return result\n",
    "\n",
    "def test_mult(func):\n",
    "    print(func([1, 2, 3, 4, 5]))\n",
    "    print(func([-1, 2, 3, -4]))\n",
    "    print(func([10, 20, 30]))\n",
    "    print(func([5, 5, 5]))\n",
    "    print(func([0, 2, 3]))"
   ]
  },
  {
   "cell_type": "code",
   "execution_count": 12,
   "metadata": {
    "scrolled": true
   },
   "outputs": [
    {
     "name": "stdout",
     "output_type": "stream",
     "text": [
      "120\n",
      "24\n",
      "6000\n",
      "125\n",
      "0\n"
     ]
    }
   ],
   "source": [
    "test_mult(mult_all)"
   ]
  },
  {
   "cell_type": "markdown",
   "metadata": {},
   "source": [
    "## 5. Ahora combina esas dos ideas y escribe una función que reciba una lista y ya sea \"+\" o \"*\", y produzca el resultado acorde"
   ]
  },
  {
   "cell_type": "code",
   "execution_count": 13,
   "metadata": {},
   "outputs": [],
   "source": [
    "def oper_all(arr, oper = \"*\"):\n",
    "    if oper == \"+\":\n",
    "        return sum(arr)\n",
    "    elif oper == \"*\":\n",
    "        result = 1\n",
    "        for num in arr:\n",
    "            result *= num\n",
    "        return result\n",
    "    else:\n",
    "        raise ValueError(\"Operación no válida. Usa '+' o '*'.\")\n",
    "\n",
    "def test_operations(func):\n",
    "    print(func([1, 2, 3, 4, 5]))\n",
    "    print(func([1, 2, 3, 4, 5], \"+\"))\n",
    "    print(func([10, 20, 30], \"*\"))\n",
    "    print(func([10, 20, 30], \"+\"))\n",
    "    print(func([5, 5, 5], \"*\"))\n",
    "    print(func([5, 5, 5], \"+\"))\n",
    "    print(func([0, 2, 3], \"*\"))\n",
    "    print(func([0, 2, 3], \"+\"))"
   ]
  },
  {
   "cell_type": "code",
   "execution_count": 14,
   "metadata": {},
   "outputs": [
    {
     "name": "stdout",
     "output_type": "stream",
     "text": [
      "120\n",
      "15\n",
      "6000\n",
      "60\n",
      "125\n",
      "15\n",
      "0\n",
      "5\n"
     ]
    }
   ],
   "source": [
    "test_operations(oper_all)"
   ]
  },
  {
   "cell_type": "markdown",
   "metadata": {},
   "source": [
    "## 6. Escribe una función que devuelva el factorial de un número."
   ]
  },
  {
   "cell_type": "code",
   "execution_count": 15,
   "metadata": {},
   "outputs": [],
   "source": [
    "def factorial(n):\n",
    "    if n == 0 or n == 1:\n",
    "        return 1\n",
    "    result = 1\n",
    "    for i in range(2, n + 1):\n",
    "        result *= i\n",
    "    return result\n",
    "\n",
    "def test_factorial(func):\n",
    "    print(func(5)) "
   ]
  },
  {
   "cell_type": "code",
   "execution_count": 16,
   "metadata": {},
   "outputs": [
    {
     "name": "stdout",
     "output_type": "stream",
     "text": [
      "120\n"
     ]
    }
   ],
   "source": [
    "test_factorial(factorial)"
   ]
  },
  {
   "cell_type": "markdown",
   "metadata": {},
   "source": [
    "## 7. Escribe una función que tome una lista y devuelva una lista de los valores únicos.\n",
    "\n",
    "`NOTE: No podemos usar set. 🤔`"
   ]
  },
  {
   "cell_type": "code",
   "execution_count": 17,
   "metadata": {},
   "outputs": [],
   "source": [
    "def unique(lst_un):\n",
    "    unique_lst = []\n",
    "    for item in lst_un:\n",
    "        if item not in unique_lst:\n",
    "            unique_lst.append(item)\n",
    "    return unique_lst\n",
    "\n",
    "def test_unique(func):\n",
    "    print(func([3, 5, 7, 7, 3, 9]))\n",
    "    print(func([2, 3, 3, 2, 4, 5, 5]))\n",
    "    print(func([100, 200, 300, 100, 400, 200]))\n",
    "    print(func([0, 0, 0, 1, 2, 2, 3]))\n",
    "    print(func([9, 8, 7, 6, 5, 4, 3]))\n",
    "    print(func([11, 22, 33, 22, 44, 11])) "
   ]
  },
  {
   "cell_type": "code",
   "execution_count": 18,
   "metadata": {},
   "outputs": [
    {
     "name": "stdout",
     "output_type": "stream",
     "text": [
      "[3, 5, 7, 9]\n",
      "[2, 3, 4, 5]\n",
      "[100, 200, 300, 400]\n",
      "[0, 1, 2, 3]\n",
      "[9, 8, 7, 6, 5, 4, 3]\n",
      "[11, 22, 33, 44]\n"
     ]
    }
   ],
   "source": [
    "test_unique(unique)"
   ]
  },
  {
   "cell_type": "markdown",
   "metadata": {},
   "source": [
    "## 8. Escribe una función que devuelva la moda de una lista, es decir: el elemento que aparece más veces.\n",
    "\n",
    "`NOTE: No se debe usar count... 🧐`"
   ]
  },
  {
   "cell_type": "code",
   "execution_count": 19,
   "metadata": {},
   "outputs": [],
   "source": [
    "def mode_counter(arr):\n",
    "    frecuencia = {}\n",
    "    for num in arr:\n",
    "        if num in frecuencia:\n",
    "            frecuencia[num] += 1\n",
    "        else:\n",
    "            frecuencia[num] = 1\n",
    "    max_frecuencia = max(frecuencia.values())\n",
    "    modas = [key for key, value in frecuencia.items() if value == max_frecuencia]\n",
    "    return modas\n",
    "\n",
    "def test_mode(func):\n",
    "    print(func([1, 2, 3, 3, 4, 4, 5]))\n",
    "    print(func([10, 10, 10, 20, 30, 20]))\n",
    "    print(func([5, 5, 5, 5, 3, 3, 4]))\n",
    "    print(func([1, 2, 3, 4, 5]))\n",
    "    print(func([7, 8, 8, 8, 9, 9, 7]))\n",
    "    print(func([2, 2, 2, 2, 2]))\n",
    "    print(func([99]))\n",
    "    print(func(['a', 'b', 'c', 'a', 'a', 'b']))\n",
    "    print(func(['x', 'y', 'x', 'z', 'y', 'x']))\n",
    "    print(func([1, 'a', 1, 'b', 1, 'a']))"
   ]
  },
  {
   "cell_type": "code",
   "execution_count": 20,
   "metadata": {},
   "outputs": [
    {
     "name": "stdout",
     "output_type": "stream",
     "text": [
      "[3, 4]\n",
      "[10]\n",
      "[5]\n",
      "[1, 2, 3, 4, 5]\n",
      "[8]\n",
      "[2]\n",
      "[99]\n",
      "['a']\n",
      "['x']\n",
      "[1]\n"
     ]
    }
   ],
   "source": [
    "test_mode(mode_counter)"
   ]
  },
  {
   "cell_type": "markdown",
   "metadata": {},
   "source": [
    "## 9. Escribe una función que calcule la desviación estándar de una lista.\n",
    "`NOTE: no utilices librerías ni ninguna función ya construida. 😉`"
   ]
  },
  {
   "cell_type": "code",
   "execution_count": 21,
   "metadata": {},
   "outputs": [],
   "source": [
    "def st_dev(list_sd):\n",
    "    media = sum(list_sd) / len(list_sd)\n",
    "    \n",
    "    suma_cuadrados = 0\n",
    "    for num in list_sd:\n",
    "        suma_cuadrados += (num - media) ** 2\n",
    "    \n",
    "    varianza = suma_cuadrados / len(list_sd)\n",
    "    \n",
    "    desviacion = varianza ** 0.5\n",
    "    return desviacion\n",
    "\n",
    "def test_st_dev(func):\n",
    "    print(func([1, 2, 3, 4, 5]))\n",
    "    print(func([10, 20, 30, 40, 50]))"
   ]
  },
  {
   "cell_type": "code",
   "execution_count": 23,
   "metadata": {},
   "outputs": [
    {
     "name": "stdout",
     "output_type": "stream",
     "text": [
      "1.4142135623730951\n",
      "14.142135623730951\n"
     ]
    }
   ],
   "source": [
    "test_st_dev(st_dev)"
   ]
  },
  {
   "cell_type": "markdown",
   "metadata": {},
   "source": [
    "## 10. Escribe una función para verificar si una cadena es un pangrama, es decir: si contiene todas las letras del alfabeto al menos una vez. Ten en cuenta que las cadenas pueden contener caracteres que no son letras."
   ]
  },
  {
   "cell_type": "code",
   "execution_count": 24,
   "metadata": {},
   "outputs": [],
   "source": [
    "def pangram(string):\n",
    "    alfabeto = set('abcdefghijklmnopqrstuvwxyzñ')\n",
    "    \n",
    "    letras = set(c.lower() for c in string if c.isalpha())\n",
    "    \n",
    "    return letras == alfabeto\n",
    "\n",
    "def test_pangram(func):\n",
    "    print(func(\"El curso de Ciencia de Datos de IronHack\"))\n",
    "    print(func(\"La clase de español\"))"
   ]
  },
  {
   "cell_type": "code",
   "execution_count": 25,
   "metadata": {},
   "outputs": [
    {
     "name": "stdout",
     "output_type": "stream",
     "text": [
      "False\n",
      "False\n"
     ]
    }
   ],
   "source": [
    "test_pangram(pangram)"
   ]
  },
  {
   "cell_type": "markdown",
   "metadata": {},
   "source": [
    "## 11. Escribe una función que reciba una cadena de palabras separadas por comas y devuelva una cadena de palabras separadas por comas ordenadas alfabéticamente.\n",
    "\n",
    "`NOTA: Puedes usar sorted pero no split y definitivamente no join! 🤪`"
   ]
  },
  {
   "cell_type": "code",
   "execution_count": 28,
   "metadata": {},
   "outputs": [],
   "source": [
    "def alpha(string):\n",
    "    palabras = []\n",
    "    temp = \"\"\n",
    "    \n",
    "    for char in string:\n",
    "        if char == ',':\n",
    "            palabras.append(temp)\n",
    "            temp = \"\"\n",
    "        else:\n",
    "            temp += char\n",
    "    \n",
    "    palabras.append(temp)\n",
    "    \n",
    "    palabras.sort()\n",
    "    \n",
    "    resultado = \"\"\n",
    "    for i, palabra in enumerate(palabras):\n",
    "        if i != 0:\n",
    "            resultado += ','\n",
    "        resultado += palabra\n",
    "    \n",
    "    return resultado\n",
    "\n",
    "def test_alpha(func):\n",
    "    print(func(\"mango,banana,fresa,mango\"))\n"
   ]
  },
  {
   "cell_type": "code",
   "execution_count": 29,
   "metadata": {},
   "outputs": [
    {
     "name": "stdout",
     "output_type": "stream",
     "text": [
      "banana,fresa,mango,mango\n"
     ]
    }
   ],
   "source": [
    "test_alpha(sort_alpha)"
   ]
  },
  {
   "cell_type": "markdown",
   "metadata": {},
   "source": [
    "## 12. Escribe una función para verificar si una contraseña dada es fuerte (al menos 8 caracteres, al menos una minúscula, al menos una mayúscula, al menos un número y al menos un carácter especial). Debería devolver True si es fuerte y False si no lo es."
   ]
  },
  {
   "cell_type": "code",
   "execution_count": 34,
   "metadata": {},
   "outputs": [],
   "source": [
    "import re\n",
    "\n",
    "def strong_password(password):\n",
    "    if len(password) < 8:\n",
    "        return False\n",
    "    \n",
    "    if not re.search(r'[a-z]', password):\n",
    "        return False\n",
    "    \n",
    "    if not re.search(r'[A-Z]', password):\n",
    "        return False\n",
    "    \n",
    "    if not re.search(r'[0-9]', password):\n",
    "        return False\n",
    "    \n",
    "    if not re.search(r'[\\W_]', password):\n",
    "        return False\n",
    "    \n",
    "    return True\n",
    "\n",
    "def test_strong_password(func):\n",
    "    print(func(\"Contraseña123!\"))\n",
    "    print(func(\"contraseñadebil\"))\n"
   ]
  },
  {
   "cell_type": "code",
   "execution_count": 36,
   "metadata": {},
   "outputs": [
    {
     "name": "stdout",
     "output_type": "stream",
     "text": [
      "True\n",
      "False\n"
     ]
    }
   ],
   "source": [
    "test_strong_password(strong_password)"
   ]
  }
 ],
 "metadata": {
  "kernelspec": {
   "display_name": "base",
   "language": "python",
   "name": "python3"
  },
  "language_info": {
   "codemirror_mode": {
    "name": "ipython",
    "version": 3
   },
   "file_extension": ".py",
   "mimetype": "text/x-python",
   "name": "python",
   "nbconvert_exporter": "python",
   "pygments_lexer": "ipython3",
   "version": "3.12.8"
  }
 },
 "nbformat": 4,
 "nbformat_minor": 4
}
